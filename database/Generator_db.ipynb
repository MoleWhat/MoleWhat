{
 "cells": [
  {
   "cell_type": "code",
   "execution_count": 2,
   "id": "a735e190-b01a-4b12-85fa-b366321bb4a8",
   "metadata": {},
   "outputs": [
    {
     "name": "stdout",
     "output_type": "stream",
     "text": [
      "<sqlite3.Cursor object at 0x7f9349213ab0>\n",
      "('Oxidane,Water', 'Inorganic chemical compound', 'O', 1)\n"
     ]
    }
   ],
   "source": [
    "import sqlite3\n",
    "\n",
    "conexion = sqlite3.connect('Molecules.db')\n",
    "cursor = conexion.cursor()\n",
    "\n",
    "cursor.execute('CREATE TABLE IF NOT EXISTS molecule '\n",
    "               '(name_iupac VARCHAR(255), description VARCHAR(1000), code_smiles '\n",
    "               'VARCHAR(500), difficulty INT(5), PRIMARY KEY(name_iupac))')\n",
    "\n",
    "cursor.execute('CREATE TABLE IF NOT EXISTS challenge '\n",
    "               '(id INT(10), difficulty INT(5), corr_answer_a VARCHAR(1000), corr_answer_b INT(5), '\n",
    "               'completed BOOL, explanation VARCHAR(1000), PRIMARY KEY(id), FOREIGN KEY(id) REFERENCES molecule (name_iupac))')\n",
    "\n",
    "Tuple=[]\n",
    "for t in [\n",
    "     ('Oxidane,Water','Inorganic chemical compound', 'O', '1'),\n",
    "     ('Diatomic oxygen, Oxygen', 'Colourless, odorless and tasteless gas', 'O=O', '1'),\n",
    "     ('Ethanol', 'Also known as ethyl alcohol', 'CCO', '2'),\n",
    "     ('Ethanoic acid', 'Found in vinegar', 'CC(O)=O', '2'),\n",
    "     ('Pyridine','Belongs to the family of aromatic heterocyclics', 'c1cnccc1', '3'),\n",
    "     ('D-Galactose,Galactose','The sugar found in milk','C(C1C(C(C(C(O1)O)O)O)O)O', '3'),\n",
    "     ('Deae-cellulose,Celusose','It is a biopolymer composed of glucose','C(C1C(C(C(C(O1)OC2C(OC(C(C2O)O)O)CO)O)O)O )O','4'),\n",
    "     ('Deoxynivalenol,Vomitoxin', 'This mycotoxin occurs predominantly in grains such as wheat, barley, oats, rye and corn', 'CC4=CC3OC1C(O)CC(C)(C12CO2)C3(CO)C(O)C4= Or', '4')]:\n",
    "     Tuple.append(t)\n",
    "\n",
    "Tuple=tuple(Tuple)\n",
    "\n",
    "cursor.executemany(\"INSERT INTO molecule VALUES (?,?,?,?);\",Tuple)\n",
    "\n",
    "conexion.commit()\n",
    "\n",
    "cursor.execute('SELECT * FROM molecule')\n",
    "\n",
    "print(cursor)\n",
    "\n",
    "usuario = cursor.fetchone()\n",
    "print(usuario)\n",
    "\n",
    "conexion.close()"
   ]
  },
  {
   "cell_type": "code",
   "execution_count": null,
   "id": "90450264-727e-42a5-a22f-523ec813ee81",
   "metadata": {},
   "outputs": [],
   "source": []
  }
 ],
 "metadata": {
  "kernelspec": {
   "display_name": "Python 3 (ipykernel)",
   "language": "python",
   "name": "python3"
  },
  "language_info": {
   "codemirror_mode": {
    "name": "ipython",
    "version": 3
   },
   "file_extension": ".py",
   "mimetype": "text/x-python",
   "name": "python",
   "nbconvert_exporter": "python",
   "pygments_lexer": "ipython3",
   "version": "3.8.10"
  }
 },
 "nbformat": 4,
 "nbformat_minor": 5
}
